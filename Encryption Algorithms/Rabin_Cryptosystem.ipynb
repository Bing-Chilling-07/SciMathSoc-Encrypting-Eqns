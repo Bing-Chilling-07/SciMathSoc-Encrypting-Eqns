{
  "nbformat": 4,
  "nbformat_minor": 0,
  "metadata": {
    "colab": {
      "provenance": [],
      "authorship_tag": "ABX9TyP7zwalDwxMyethSfXSh6Kz",
      "include_colab_link": true
    },
    "kernelspec": {
      "name": "python3",
      "display_name": "Python 3"
    },
    "language_info": {
      "name": "python"
    }
  },
  "cells": [
    {
      "cell_type": "markdown",
      "metadata": {
        "id": "view-in-github",
        "colab_type": "text"
      },
      "source": [
        "<a href=\"https://colab.research.google.com/github/Bing-Chilling-07/SciMathSoc-Encrypting-Eqns/blob/main/Encryption%20Algorithms/Rabin_Cryptosystem.ipynb\" target=\"_parent\"><img src=\"https://colab.research.google.com/assets/colab-badge.svg\" alt=\"Open In Colab\"/></a>"
      ]
    },
    {
      "cell_type": "code",
      "execution_count": 1,
      "metadata": {
        "id": "eeww6eiUR5Zc"
      },
      "outputs": [],
      "source": [
        "#Importing libraries\n",
        "import math\n",
        "import random"
      ]
    },
    {
      "cell_type": "code",
      "source": [
        "#Finction for finding GCD and coeeficients of Bezouts lemma using recursion in eulers formula\n",
        "def extended_gcd(a, b):\n",
        "\n",
        "    if a == 0:\n",
        "        return b, 0, 1\n",
        "    gcd, x1, y1 = extended_gcd(b % a, a)\n",
        "    x = y1 - (b // a) * x1\n",
        "    y = x1\n",
        "    return gcd, x, y\n",
        "\n",
        "\n",
        "\n",
        "\n",
        "\n",
        "\n",
        "\n",
        "#Findin inverse using bezouts lemma\n",
        "def mod_inverse(a, m):\n",
        "\n",
        "    gcd, x, y = extended_gcd(a, m)\n",
        "    return x % m"
      ],
      "metadata": {
        "id": "lOgIfKEXR8ki"
      },
      "execution_count": 2,
      "outputs": []
    },
    {
      "cell_type": "code",
      "source": [
        "#Generating keys\n",
        "def rabin_key_generation():\n",
        "\n",
        "    #These are realitic keys but I will be using small keys to actually show the padding and how it is funtioning.\n",
        "\n",
        "    # p = int(\"13407807929942597099574024998205846127479365820592393377723561443721764030073546976801874298166903427690031\")\n",
        "    # q = int(\"13407807929942597099574024998205846127479365820592393377723561443721764030073546976801874298166903427689959\")\n",
        "\n",
        "\n",
        "    p = 7\n",
        "    q = 11\n",
        "\n",
        "\n",
        "    n = p * q\n",
        "\n",
        "    print(n)\n",
        "    print(p,q)\n",
        "    return n, p, q"
      ],
      "metadata": {
        "id": "9luoeUVHSFvT"
      },
      "execution_count": 3,
      "outputs": []
    },
    {
      "cell_type": "code",
      "source": [
        "#Defining the padding, note that here it is small and can cause errors but if the padding is around 7-8 digits its very unlikely that it will match\n",
        "PAD_TAG = 2\n",
        "PAD_MULTIPLIER = 10"
      ],
      "metadata": {
        "id": "uUt_EPGnS4AW"
      },
      "execution_count": 4,
      "outputs": []
    },
    {
      "cell_type": "code",
      "source": [
        "#Function for encyrption\n",
        "def rabin_encrypt(m, n):\n",
        "\n",
        "    m_padded = (m * PAD_MULTIPLIER) + PAD_TAG\n",
        "\n",
        "    c = pow(m_padded, 2, n)\n",
        "\n",
        "    print(m_padded)\n",
        "    print(c)\n",
        "\n",
        "    return c"
      ],
      "metadata": {
        "id": "H1HDSvHoTZ-K"
      },
      "execution_count": 5,
      "outputs": []
    },
    {
      "cell_type": "code",
      "source": [
        "#Function of decryption\n",
        "def rabin_decrypt(c, p, q, n):\n",
        "\n",
        "\n",
        "    #Finding the roots mod p and mod q\n",
        "    mp1 = pow(c, (p + 1) // 4, p)\n",
        "    mp2 = p - mp1\n",
        "    mq1 = pow(c, (q + 1) // 4, q)\n",
        "    mq2 = q - mq1\n",
        "\n",
        "\n",
        "    inv_p_mod_q = mod_inverse(p, q)\n",
        "    inv_q_mod_p = mod_inverse(q, p)\n",
        "\n",
        "\n",
        "\n",
        "    #Using CRT to find possible values of m\n",
        "    possible_padded_m = []\n",
        "\n",
        "    x1 = (mp1 * q * inv_q_mod_p + mq1 * p * inv_p_mod_q) % n\n",
        "    possible_padded_m.append(x1)\n",
        "\n",
        "    x2 = (mp1 * q * inv_q_mod_p + mq2 * p * inv_p_mod_q) % n\n",
        "    possible_padded_m.append(x2)\n",
        "\n",
        "    x3 = (mp2 * q * inv_q_mod_p + mq1 * p * inv_p_mod_q) % n\n",
        "    possible_padded_m.append(x3)\n",
        "\n",
        "    x4 = (mp2 * q * inv_q_mod_p + mq2 * p * inv_p_mod_q) % n\n",
        "    possible_padded_m.append(x4)\n",
        "\n",
        "    print(possible_padded_m)\n",
        "\n",
        "\n",
        "\n",
        "    #Checking the padding and choosing correct value of m\n",
        "    for root in possible_padded_m:\n",
        "\n",
        "        if root % PAD_MULTIPLIER == PAD_TAG:\n",
        "            unpadded_m = (root - PAD_TAG) // PAD_MULTIPLIER\n",
        "            return unpadded_m;\n",
        "\n"
      ],
      "metadata": {
        "id": "8W39AE7rUDYi"
      },
      "execution_count": 6,
      "outputs": []
    },
    {
      "cell_type": "code",
      "source": [
        "n,p,q = rabin_key_generation()\n",
        "\n",
        "message = input(\"Enter a number: \")\n",
        "\n",
        "encrypted = rabin_encrypt(int(message), n)\n",
        "decyripted = rabin_decrypt(encrypted, p, q, n)\n",
        "\n",
        "print(message)\n",
        "print(encrypted)\n",
        "print(decyripted)"
      ],
      "metadata": {
        "colab": {
          "base_uri": "https://localhost:8080/"
        },
        "id": "AeO3hM_eU1Zl",
        "outputId": "3390ed89-6f1e-43ba-f9aa-9e8a737bf2fa"
      },
      "execution_count": 7,
      "outputs": [
        {
          "output_type": "stream",
          "name": "stdout",
          "text": [
            "77\n",
            "7 11\n",
            "Enter a number: 3\n",
            "32\n",
            "23\n",
            "[67, 32, 45, 10]\n",
            "3\n",
            "23\n",
            "3\n"
          ]
        }
      ]
    },
    {
      "cell_type": "code",
      "source": [],
      "metadata": {
        "id": "jDTRZoUnV27A"
      },
      "execution_count": 7,
      "outputs": []
    }
  ]
}