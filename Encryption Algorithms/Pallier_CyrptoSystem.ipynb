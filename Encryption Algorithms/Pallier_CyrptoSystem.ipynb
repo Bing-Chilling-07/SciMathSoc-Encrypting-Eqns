{
  "nbformat": 4,
  "nbformat_minor": 0,
  "metadata": {
    "colab": {
      "provenance": [],
      "authorship_tag": "ABX9TyNpfLK5gr1vNtESj/rMqZfk",
      "include_colab_link": true
    },
    "kernelspec": {
      "name": "python3",
      "display_name": "Python 3"
    },
    "language_info": {
      "name": "python"
    }
  },
  "cells": [
    {
      "cell_type": "markdown",
      "metadata": {
        "id": "view-in-github",
        "colab_type": "text"
      },
      "source": [
        "<a href=\"https://colab.research.google.com/github/Bing-Chilling-07/SciMathSoc-Encrypting-Eqns/blob/main/Encryption%20Algorithms/Pallier_CyrptoSystem.ipynb\" target=\"_parent\"><img src=\"https://colab.research.google.com/assets/colab-badge.svg\" alt=\"Open In Colab\"/></a>"
      ]
    },
    {
      "cell_type": "code",
      "execution_count": 1,
      "metadata": {
        "id": "NmEJHNI0jD2Y"
      },
      "outputs": [],
      "source": [
        "#importing libraries\n",
        "import random\n",
        "import math"
      ]
    },
    {
      "cell_type": "code",
      "source": [
        "#GCD function using eulers method\n",
        "def gcd(a, b):\n",
        "    while b:\n",
        "        a, b = b, a % b\n",
        "    return a\n",
        "\n",
        "\n",
        "\n",
        "\n",
        "#Using standard formula\n",
        "def lcm(a, b):\n",
        "    return a * b // gcd(a, b)\n",
        "\n",
        "\n",
        "\n",
        "\n",
        "\n",
        "#Basic recursion using the eulers formula\n",
        "def extended_gcd(a, b):\n",
        "        if a == 0:\n",
        "            return b, 0, 1\n",
        "        g, x1, y1 = extended_gcd(b % a, a)\n",
        "        x = y1 - (b // a) * x1\n",
        "        y = x1\n",
        "        return g, x, y\n",
        "\n",
        "\n",
        "\n",
        "\n",
        "#Finding the inverse using the bezouts theorem and Eulers formula\n",
        "def mod_inverse(a, m):\n",
        "    g, x, y = extended_gcd(a % m, m)\n",
        "    return (x % m + m) % m"
      ],
      "metadata": {
        "id": "owc7awvznaBN"
      },
      "execution_count": 2,
      "outputs": []
    },
    {
      "cell_type": "code",
      "source": [
        "#Defining the L function\n",
        "def L_function(x, n):\n",
        "    return (x - 1) // n\n",
        "\n",
        "\n",
        "\n",
        "\n",
        "#Making the keys\n",
        "def make_keys():\n",
        "    global n, g, lam, mu\n",
        "\n",
        "    p = 6228173646984385220837404614069790676734638718351298391181167089210660226945278008203061117575639931515213242125152828611687176818647891173428523624774504492785445173013640443532614531804759059055214990723855798074118043897978501144141205935443196308703743\n",
        "    q = 1254175121846444621407329458582931618328262643730848702306656252324823706585084132324558771949213793351126795558895304878070536170737686213598168214844668324051637480459741280432956117051216411162048182177380730765841967941938480082084407654780444423217873\n",
        "\n",
        "    n = p * q\n",
        "\n",
        "    lam = lcm(p - 1, q - 1)\n",
        "\n",
        "    g = n + 1\n",
        "\n",
        "    n_squared = n * n\n",
        "    temp = pow(g, lam, n_squared)\n",
        "    temp = L_function(temp, n)\n",
        "    mu = mod_inverse(temp, n)"
      ],
      "metadata": {
        "id": "loIFTM-Jnxxh"
      },
      "execution_count": 3,
      "outputs": []
    },
    {
      "cell_type": "code",
      "source": [
        "#Function for encyription of message\n",
        "def encrypt(message):\n",
        "    global n, g\n",
        "\n",
        "    if message >= n:\n",
        "        raise Exception(\"Message too big\")\n",
        "\n",
        "    while True:\n",
        "        r = random.randrange(1, n)\n",
        "        if gcd(r, n) == 1:\n",
        "            break\n",
        "\n",
        "    n_squared = n * n\n",
        "    part1 = pow(g, message, n_squared)\n",
        "    part2 = pow(r, n, n_squared)\n",
        "    ciphertext = (part1 * part2) % n_squared\n",
        "\n",
        "    return ciphertext\n",
        "\n",
        "\n",
        "\n",
        "\n",
        "\n",
        "\n",
        "\n",
        "#Function for decryption of cypher\n",
        "def decrypt(cipher):\n",
        "\n",
        "    global n, lam, mu\n",
        "\n",
        "    n_squared = n * n\n",
        "    temp = pow(cipher, lam, n_squared)\n",
        "    temp = L_function(temp, n)\n",
        "    message = (temp * mu) % n\n",
        "\n",
        "    return message"
      ],
      "metadata": {
        "id": "r3-hLaeIoIEL"
      },
      "execution_count": 4,
      "outputs": []
    },
    {
      "cell_type": "code",
      "source": [
        "#Function for adding the messages (mulriplying thier cyphers)\n",
        "def add_encrypted(cipher1, cipher2):\n",
        "\n",
        "    global n\n",
        "\n",
        "\n",
        "    n_squared = n * n\n",
        "    result = (cipher1 * cipher2) % n_squared\n",
        "    return result"
      ],
      "metadata": {
        "id": "Y4DZG8uFogaP"
      },
      "execution_count": 5,
      "outputs": []
    },
    {
      "cell_type": "code",
      "source": [
        "make_keys()\n",
        "\n",
        "msg1 = int(input(\"Enter message 1: \"))\n",
        "msg2 = int(input(\"Enter message 2: \"))\n",
        "\n",
        "encrypted1 = encrypt(msg1)\n",
        "encrypted2 = encrypt(msg2)\n",
        "\n",
        "decrypted1 = decrypt(encrypted1)\n",
        "decrypted2 = decrypt(encrypted2)\n",
        "\n",
        "print(msg1)\n",
        "print(msg2)\n",
        "print(encrypted1)\n",
        "print(encrypted2)\n",
        "print(decrypted1)\n",
        "print(decrypted2)\n",
        "\n",
        "encrypted_sum = add_encrypted(encrypted1, encrypted2)\n",
        "decrypted_sum = decrypt(encrypted_sum)\n",
        "\n",
        "print(decrypted_sum)"
      ],
      "metadata": {
        "colab": {
          "base_uri": "https://localhost:8080/"
        },
        "id": "f1rPxVhxqDjd",
        "outputId": "5815d7fa-b774-460f-ecfc-09e463982b16"
      },
      "execution_count": 6,
      "outputs": [
        {
          "output_type": "stream",
          "name": "stdout",
          "text": [
            "Enter message 1: 52\n",
            "Enter message 2: 48\n",
            "52\n",
            "48\n",
            "54598952713244432138364409487540141479633886849793766802628853670641021966911937124156376629856102605986682034138171302390356341521839322385740010713049807607840595249254159173704389538859202941969515031931225171604245161982428439032139826034584418153953404691012860525728834339525786215262219153390756048195485106792652479774440635307433296408170316496783808707509991236219163865009633175876581395890063054059089698322231851832357595067819768751548745272475858319570769133504091250714342497908867097234270032314398826765043886946747617557960300487853130198313352745734640792821524775790720909283567229604715834302738432602930120462218429988488833512347577120529582165125198352128474936945188036195030009738091619364781415111727308516663028419545039057295387805856218397244543880347789773686289427314846990879376989099090075792610819444519706246476904059253447380704207711596033628236816641233877752037732569848811999059389492257648894321368527883344403743671918634976839655468940852306465608291409026378947370831172452212\n",
            "16059051849711330864350688628328196789621884143196061913426353795198909817923892529023788140042589896209211684475709423935325670204403829573849715190989413301944431883808946246450315446953938934152760260030370918051971473404113684398323536990129733887988152674927493297848195734895946245591871584911458663430798112042726603124928349664621066329225468569294734518559142896779033539930007143743303073778275682995019806353951981578952721436234232008695870001788055065989643322624408396513416106839071447524847891508816194579088127745809425400126488029362582840637764647013601699852408650511353473019767264613516926356079313064493648900250352861026296826972557125069282926441942762452893502701105160392526062186966862529050089762578986134792577258991406141967234277407313281858281684380167487883498594524749074541841862270752758625683577416576159796300717115833853170294950135436773370555378395972636105897574450494599581304590438658293010126803078190801473036021105663022181375123093595556349046239919742514857619646014623928\n",
            "52\n",
            "48\n",
            "100\n"
          ]
        }
      ]
    },
    {
      "cell_type": "code",
      "source": [],
      "metadata": {
        "id": "9uAPUbhUqS-o"
      },
      "execution_count": 6,
      "outputs": []
    }
  ]
}